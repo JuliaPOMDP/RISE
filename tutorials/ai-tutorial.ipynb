{
 "cells": [
  {
   "cell_type": "markdown",
   "metadata": {},
   "source": [
    "# Artificial Intelligence Tutorial\n",
    "This tutorial introduces some basic consepts from Artificial Intelligence. The majority of this tutorial involves watching videos from the Udacity course on [Artificial Intelligence](https://www.udacity.com/course/intro-to-artificial-intelligence--cs271), with some follow up questions to get you thinking about some of the concepts on a more applied level. You will need to create an account with Udacity before you can start the course. "
   ]
  },
  {
   "cell_type": "markdown",
   "metadata": {},
   "source": [
    "## Introduction\n",
    "Watch the videos and do the excercises for the Lesson 1. This is a brief overview of the core ideas behind AI. The goal of AI is to get autonomous agents to behave intelligently. "
   ]
  },
  {
   "cell_type": "markdown",
   "metadata": {},
   "source": [
    "## State and Action Spaces\n",
    "Watch the first three modules of Lesson 2 (Introduction, What is a Problem, Example Route Finiding). Think about some of the following:\n",
    "* What is a state and action space?\n",
    "* What are state and action spaces for a UAV? Watch this [video](https://www.youtube.com/watch?v=w2itwFJCgFQ) and think of what the state and action spaces are for those UAVs.\n",
    "* What does partial observability mean?\n"
   ]
  },
  {
   "cell_type": "markdown",
   "metadata": {},
   "source": [
    "## Search\n",
    "Watch the next three modules in Lesson 2 (Tree Search, Tree Search Continued, Graph Search). There are three tree search methods covered in this lesson:\n",
    "* Breadth First Search (BFS)\n",
    "* Uniform Cost Search (UCS)\n",
    "* A*\n",
    "\n",
    "These are complex concepts! The main idea is fairly simple: find the best path from the start state to the goal state. If you are interested in learning more, you can watch the videos covering BFS, UFS, and A*.\n",
    "\n",
    "## A* Search\n",
    "Watch the A* modules in Lesson 2 (A search, A search 1-5, optimistic heuristic). What heuristic would you pick for A* if you were trying to find a path from the entrance to the exit of a maze? \n",
    "\n",
    "Path search algorithms are commonly used in video games to direct AI agents or playable characters from one location to another. Check out this [video](https://www.youtube.com/watch?v=hmx1sx6ezQA) that visualizes the search paths. "
   ]
  },
  {
   "cell_type": "markdown",
   "metadata": {},
   "source": [
    "## State Spaces\n",
    "Get a better sense of what state spaces are and watch the following modules in Lesson 2:\n",
    "* State Spaces, State Spaces 1-3\n",
    "* Sliding Blocks Puzzle, Sliding Block Puzzle 1-3\n",
    "\n",
    "You can represent any real-life model with a state space."
   ]
  },
  {
   "cell_type": "markdown",
   "metadata": {},
   "source": [
    "## Planning\n",
    "Watch the videos on planning in Lesson 8 (Introduction through Stochastic Environment Problem).\n",
    "\n",
    "Know what it means for an environment or a system to be stochastic. Can you think of any examples of a stochastic environemnt? What kind of stochasticity does a self-driving car have to consider (Tim would be a good person to discuss this with)."
   ]
  },
  {
   "cell_type": "markdown",
   "metadata": {},
   "source": [
    "## Planning under Uncertainty\n",
    "Watch the videos in Lesson 9.\n",
    "\n",
    "Why does A* search not work well in stochastic environments?\n",
    "\n",
    "Planning under uncertainty is a huge field that has many sub-fields within it. Check out some of these cool videos:\n",
    "* Multi-agent planning in [Starcrfat](https://www.youtube.com/watch?v=DZvpB2TxthU)\n",
    "* Multi-agent coordination with [robots](https://www.youtube.com/watch?v=BXQOcfyOPB8)\n",
    "* Google's self-driving [car](https://www.youtube.com/watch?v=TsaES--OTzM)\n",
    "* The next-generation aircraft collision avoidance system (ACAS X). Prof. Kochenderfer developed large parts of this system. He has some really cool videos that demonstrate this system in action.  "
   ]
  }
 ],
 "metadata": {
  "kernelspec": {
   "display_name": "Julia 0.3.4",
   "language": "julia",
   "name": "julia-0.3"
  },
  "language_info": {
   "name": "julia",
   "version": "0.3.4"
  }
 },
 "nbformat": 4,
 "nbformat_minor": 0
}
