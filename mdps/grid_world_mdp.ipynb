{
 "cells": [
  {
   "cell_type": "code",
   "execution_count": 2,
   "metadata": {
    "collapsed": false
   },
   "outputs": [
    {
     "data": {
      "text/plain": [
       "GridWorldState(1,1)"
      ]
     },
     "execution_count": 2,
     "metadata": {},
     "output_type": "execute_result"
    }
   ],
   "source": [
    "type GridWorldState\n",
    "    x::Int64\n",
    "    y::Int64\n",
    "end\n",
    "\n",
    "state = GridWorldState(1, 1)"
   ]
  },
  {
   "cell_type": "code",
   "execution_count": 4,
   "metadata": {
    "collapsed": false
   },
   "outputs": [
    {
     "data": {
      "text/plain": [
       "1"
      ]
     },
     "execution_count": 4,
     "metadata": {},
     "output_type": "execute_result"
    }
   ],
   "source": [
    "state.x\n",
    "state.y"
   ]
  },
  {
   "cell_type": "code",
   "execution_count": 14,
   "metadata": {
    "collapsed": false
   },
   "outputs": [
    {
     "data": {
      "text/plain": [
       "6-element Array{Int64,1}:\n",
       "   1\n",
       "   2\n",
       "   3\n",
       "   4\n",
       " 200\n",
       "  10"
      ]
     },
     "execution_count": 14,
     "metadata": {},
     "output_type": "execute_result"
    }
   ],
   "source": [
    "vec = [1,2,3,4,200]\n",
    "push!(vec,10)\n"
   ]
  },
  {
   "cell_type": "code",
   "execution_count": 8,
   "metadata": {
    "collapsed": false
   },
   "outputs": [
    {
     "data": {
      "text/plain": [
       "4x4 Array{Float64,2}:\n",
       " 0.333448  0.324798  0.957186  0.430229\n",
       " 0.542204  0.529811  0.945181  0.791365\n",
       " 0.746842  0.458725  0.9845    0.40103 \n",
       " 0.685872  0.641443  0.20401   0.599299"
      ]
     },
     "execution_count": 8,
     "metadata": {},
     "output_type": "execute_result"
    }
   ],
   "source": [
    "matrix = rand(4,4)"
   ]
  },
  {
   "cell_type": "code",
   "execution_count": 21,
   "metadata": {
    "collapsed": false
   },
   "outputs": [
    {
     "data": {
      "text/plain": [
       "0-element Array{GridWorldState,1}"
      ]
     },
     "execution_count": 21,
     "metadata": {},
     "output_type": "execute_result"
    }
   ],
   "source": [
    "state_space = Array(GridWorldState,0)\n",
    "push!(state_space, state)\n",
    "state2 = GridWorldState(2, 1)\n",
    "push!(state_space, state2)\n",
    "state_space = Array(GridWorldState,0)"
   ]
  },
  {
   "cell_type": "code",
   "execution_count": 23,
   "metadata": {
    "collapsed": false
   },
   "outputs": [],
   "source": [
    "size_x = 10\n",
    "size_y = 10\n",
    "for y = 1:size_y, x = 1:size_x\n",
    "    push!(state_space, GridWorldState(x, y))\n",
    "end"
   ]
  },
  {
   "cell_type": "code",
   "execution_count": 24,
   "metadata": {
    "collapsed": false
   },
   "outputs": [
    {
     "data": {
      "text/plain": [
       "100-element Array{GridWorldState,1}:\n",
       " GridWorldState(1,1)  \n",
       " GridWorldState(2,1)  \n",
       " GridWorldState(3,1)  \n",
       " GridWorldState(4,1)  \n",
       " GridWorldState(5,1)  \n",
       " GridWorldState(6,1)  \n",
       " GridWorldState(7,1)  \n",
       " GridWorldState(8,1)  \n",
       " GridWorldState(9,1)  \n",
       " GridWorldState(10,1) \n",
       " GridWorldState(1,2)  \n",
       " GridWorldState(2,2)  \n",
       " GridWorldState(3,2)  \n",
       " ⋮                    \n",
       " GridWorldState(9,9)  \n",
       " GridWorldState(10,9) \n",
       " GridWorldState(1,10) \n",
       " GridWorldState(2,10) \n",
       " GridWorldState(3,10) \n",
       " GridWorldState(4,10) \n",
       " GridWorldState(5,10) \n",
       " GridWorldState(6,10) \n",
       " GridWorldState(7,10) \n",
       " GridWorldState(8,10) \n",
       " GridWorldState(9,10) \n",
       " GridWorldState(10,10)"
      ]
     },
     "execution_count": 24,
     "metadata": {},
     "output_type": "execute_result"
    }
   ],
   "source": [
    "state_space"
   ]
  },
  {
   "cell_type": "code",
   "execution_count": 26,
   "metadata": {
    "collapsed": false
   },
   "outputs": [
    {
     "data": {
      "text/plain": [
       "GridWorldAction(:up)"
      ]
     },
     "execution_count": 26,
     "metadata": {},
     "output_type": "execute_result"
    }
   ],
   "source": [
    "type GridWorldAction\n",
    "    direction::Symbol\n",
    "end\n",
    "action = GridWorldAction(:up)"
   ]
  },
  {
   "cell_type": "code",
   "execution_count": 27,
   "metadata": {
    "collapsed": false
   },
   "outputs": [
    {
     "data": {
      "text/plain": [
       "4-element Array{GridWorldAction,1}:\n",
       " GridWorldAction(:left) \n",
       " GridWorldAction(:right)\n",
       " GridWorldAction(:up)   \n",
       " GridWorldAction(:down) "
      ]
     },
     "execution_count": 27,
     "metadata": {},
     "output_type": "execute_result"
    }
   ],
   "source": [
    "action_space = [GridWorldAction(:left),GridWorldAction(:right),GridWorldAction(:up),GridWorldAction(:down)]"
   ]
  },
  {
   "cell_type": "code",
   "execution_count": null,
   "metadata": {
    "collapsed": true
   },
   "outputs": [],
   "source": []
  }
 ],
 "metadata": {
  "kernelspec": {
   "display_name": "Julia 0.3.4",
   "language": "julia",
   "name": "julia-0.3"
  },
  "language_info": {
   "name": "julia",
   "version": "0.3.4"
  }
 },
 "nbformat": 4,
 "nbformat_minor": 0
}
