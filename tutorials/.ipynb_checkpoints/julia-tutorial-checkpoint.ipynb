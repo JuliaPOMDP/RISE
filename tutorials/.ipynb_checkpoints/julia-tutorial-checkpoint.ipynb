{
 "cells": [
  {
   "cell_type": "markdown",
   "metadata": {},
   "source": [
    "# Julia Tutorial\n",
    "This tutorial will get you started with using julia. Follow along with the examples, and try experimenting. We will be using the [Learn Julia the Hard Way](https://github.com/chrisvoncsefalvay/learn-julia-the-hard-way) tutorial along with some supplemental questions."
   ]
  },
  {
   "cell_type": "markdown",
   "metadata": {},
   "source": [
    "## Text Editor\n",
    "Before you start, make sure you have a text editor ready that you are comfortable using. For begginers, [Sublime Text] (http://www.sublimetext.com/) is is failry easy to pick-up. "
   ]
  },
  {
   "cell_type": "markdown",
   "metadata": {},
   "source": [
    "## Chapter 1: Using the REPL\n",
    "To start the Julia REPL, type the following in the terminal:\n",
    "\n",
    "```shell\n",
    "julia\n",
    "```\n",
    "Follow along with the [Chapter 1](https://github.com/chrisvoncsefalvay/learn-julia-the-hard-way/blob/master/_chapters/04-ex1.md) tutorial. After this tutorial you should know how to use the REPL and know how to print strings."
   ]
  },
  {
   "cell_type": "markdown",
   "metadata": {
    "collapsed": true
   },
   "source": [
    "## Chapters 2 and 4: Data Structures\n",
    "This tutorial introduces some of the improtant data structures found in Julia. Complete the tutorials in [Chapter 2](https://github.com/chrisvoncsefalvay/learn-julia-the-hard-way/blob/master/_chapters/05-ex2.md) and [Chapter 4](https://github.com/chrisvoncsefalvay/learn-julia-the-hard-way/blob/master/_chapters/07-ex4.md).\n",
    "\n",
    "After these tutorials you should know the following:\n",
    "* Know how to create arrays, tuples, dictionaries, and sets\n",
    "* Know how to add new entries to arrays, tuples, dictionaries, and sets"
   ]
  },
  {
   "cell_type": "markdown",
   "metadata": {
    "collapsed": true
   },
   "source": [
    "## Chapter 6: Control Flow\n",
    "This tutrial focuses on conditions, comparison operators and loops. Complete the tutorial in [Chapter 6](https://github.com/chrisvoncsefalvay/learn-julia-the-hard-way/blob/master/_chapters/09-ex6.md). After this tutorial you should know how to make simple if and else comparisons, and how to make loops. \n"
   ]
  },
  {
   "cell_type": "markdown",
   "metadata": {},
   "source": [
    "## Chapter 7: Functions\n",
    "\n",
    "### Excersice:\n",
    "Write a function that takes in an array of numbers, iterates through them and prints \"Hi\" for every number that is greater than zero, \"Bye\" for every number that is less than zero, and \"Zero\" if the number is zero.\n",
    "\n",
    "You should complete the following function:\n",
    "\n",
    "```julia\n",
    "function hi_bye(nums)\n",
    "    # your code goes here\n",
    "end\n",
    "```\n",
    "\n",
    "After you finish the function test it out:\n",
    "```julia\n",
    "# create an array\n",
    "my_nums = [-1,0,-10,103.4]\n",
    "# Call the function\n",
    "hi_bye(my_nums)\n",
    "Bye\n",
    "Zero\n",
    "Bye\n",
    "Hi\n",
    "```\n",
    "\n"
   ]
  }
 ],
 "metadata": {
  "kernelspec": {
   "display_name": "Julia 0.3.4",
   "language": "julia",
   "name": "julia-0.3"
  },
  "language_info": {
   "name": "julia",
   "version": "0.3.4"
  }
 },
 "nbformat": 4,
 "nbformat_minor": 0
}
