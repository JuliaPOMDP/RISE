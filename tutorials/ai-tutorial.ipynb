{
 "cells": [
  {
   "cell_type": "markdown",
   "metadata": {},
   "source": [
    "# Artificial Intelligence Tutorial\n",
    "This tutorial introduces some basic consepts from Artificial Intelligence. The majority of this tutorial involves watching videos from the Udacity course on [Artificial Intelligence](https://www.udacity.com/course/intro-to-artificial-intelligence--cs271), with some follow up questions to get you thinking about some of the concepts on a more applied level. "
   ]
  },
  {
   "cell_type": "code",
   "execution_count": null,
   "metadata": {
    "collapsed": true
   },
   "outputs": [],
   "source": []
  },
  {
   "cell_type": "markdown",
   "metadata": {},
   "source": []
  }
 ],
 "metadata": {
  "kernelspec": {
   "display_name": "Julia 0.3.4",
   "language": "julia",
   "name": "julia-0.3"
  },
  "language_info": {
   "name": "julia",
   "version": "0.3.4"
  }
 },
 "nbformat": 4,
 "nbformat_minor": 0
}
